{
 "cells": [
  {
   "cell_type": "markdown",
   "metadata": {},
   "source": [
    "# 1164. Product Price at a Given Date\n",
    "Medium\n",
    "\n",
    "\n"
   ]
  },
  {
   "cell_type": "code",
   "execution_count": 1,
   "metadata": {},
   "outputs": [],
   "source": [
    "import pandas as pd"
   ]
  },
  {
   "cell_type": "code",
   "execution_count": 2,
   "metadata": {},
   "outputs": [],
   "source": [
    "def price_at_given_date(products: pd.DataFrame) -> pd.DataFrame:\n",
    "    products['new_price'][products['change_date']>'2019-08-16']= 10\n",
    "    wanted_products = products[products['change_date']<='2019-08-16']\n",
    "    last_price = wanted_products.groupby('product_id')[['change_date']].max().reset_index()\n",
    "    last_price['accepted'] = True\n",
    "    res = wanted_products.merge(last_price, how='left', left_on=['product_id','change_date'], right_on=['product_id','change_date'])\n",
    "    res = res[res['accepted']==True]\n",
    "    res = res[['product_id','new_price','change_date']]\n",
    "    products = products[products['product_id'].isin(res['product_id'])== False].drop_duplicates(subset=['product_id'])\n",
    "    res = pd.concat([res, products[(products['change_date']>'2019-08-16')]])\n",
    "    return res[['product_id','new_price']].rename(columns={'new_price':'price'})"
   ]
  },
  {
   "cell_type": "code",
   "execution_count": 3,
   "metadata": {},
   "outputs": [],
   "source": [
    "data =[[1          , 20        , '2019-08-14'],  \n",
    "[2          , 50        , '2019-08-14'],  \n",
    "[1          , 30        , '2019-08-15'],  \n",
    "[1          , 5         , '2019-08-16'],  \n",
    "[2          , 65        , '2019-08-17'],  \n",
    "[3          , 20        , '2019-08-18']]\n",
    "products = pd.DataFrame(data, columns=['product_id', 'new_price', 'change_date']).astype({'product_id':'Int64', 'new_price':'Int64', 'change_date':'datetime64[ns]'})"
   ]
  },
  {
   "cell_type": "code",
   "execution_count": 4,
   "metadata": {},
   "outputs": [],
   "source": [
    "data = [[1, 20, '2019-08-14'], [2, 50, '2019-08-14'], [1, 30, '2019-08-15'], [1, 35, '2019-08-16'], [2, 65, '2019-08-17'], [3, 20, '2019-08-18']]\n",
    "products = pd.DataFrame(data, columns=['product_id', 'new_price', 'change_date']).astype({'product_id':'Int64', 'new_price':'Int64', 'change_date':'datetime64[ns]'})"
   ]
  },
  {
   "cell_type": "code",
   "execution_count": 5,
   "metadata": {},
   "outputs": [
    {
     "data": {
      "text/html": [
       "<div>\n",
       "<style scoped>\n",
       "    .dataframe tbody tr th:only-of-type {\n",
       "        vertical-align: middle;\n",
       "    }\n",
       "\n",
       "    .dataframe tbody tr th {\n",
       "        vertical-align: top;\n",
       "    }\n",
       "\n",
       "    .dataframe thead th {\n",
       "        text-align: right;\n",
       "    }\n",
       "</style>\n",
       "<table border=\"1\" class=\"dataframe\">\n",
       "  <thead>\n",
       "    <tr style=\"text-align: right;\">\n",
       "      <th></th>\n",
       "      <th>product_id</th>\n",
       "      <th>price</th>\n",
       "    </tr>\n",
       "  </thead>\n",
       "  <tbody>\n",
       "    <tr>\n",
       "      <th>1</th>\n",
       "      <td>2</td>\n",
       "      <td>50</td>\n",
       "    </tr>\n",
       "    <tr>\n",
       "      <th>3</th>\n",
       "      <td>1</td>\n",
       "      <td>35</td>\n",
       "    </tr>\n",
       "    <tr>\n",
       "      <th>5</th>\n",
       "      <td>3</td>\n",
       "      <td>10</td>\n",
       "    </tr>\n",
       "  </tbody>\n",
       "</table>\n",
       "</div>"
      ],
      "text/plain": [
       "   product_id  price\n",
       "1           2     50\n",
       "3           1     35\n",
       "5           3     10"
      ]
     },
     "execution_count": 5,
     "metadata": {},
     "output_type": "execute_result"
    }
   ],
   "source": [
    "price_at_given_date(products)"
   ]
  },
  {
   "cell_type": "markdown",
   "metadata": {},
   "source": [
    "# أفضل حل (ليس حلي)\n",
    "# Best Solution (not mine)"
   ]
  },
  {
   "cell_type": "code",
   "execution_count": 6,
   "metadata": {},
   "outputs": [],
   "source": [
    "import pandas as pd\n",
    "\n",
    "def price_at_given_date(products: pd.DataFrame) -> pd.DataFrame:\n",
    "    x = products[products.change_date <= '2019-08-16']\n",
    "    y = products[products.change_date > '2019-08-16']\n",
    "    y.new_price = 10\n",
    "    y = y[~y.product_id.isin(x.product_id)]\n",
    "    return pd.concat([x,y]).sort_values(by = 'change_date', ascending = False).drop_duplicates(['product_id'])[['product_id','new_price']].rename(columns = {'new_price' : 'price'})"
   ]
  },
  {
   "cell_type": "code",
   "execution_count": null,
   "metadata": {},
   "outputs": [],
   "source": []
  }
 ],
 "metadata": {
  "kernelspec": {
   "display_name": "Python 3",
   "language": "python",
   "name": "python3"
  },
  "language_info": {
   "codemirror_mode": {
    "name": "ipython",
    "version": 3
   },
   "file_extension": ".py",
   "mimetype": "text/x-python",
   "name": "python",
   "nbconvert_exporter": "python",
   "pygments_lexer": "ipython3",
   "version": "3.10.9"
  }
 },
 "nbformat": 4,
 "nbformat_minor": 2
}
