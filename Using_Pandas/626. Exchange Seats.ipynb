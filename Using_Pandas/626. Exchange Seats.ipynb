{
 "cells": [
  {
   "cell_type": "markdown",
   "metadata": {},
   "source": [
    "# 626. Exchange Seats\n",
    "Medium\n",
    "\n",
    "\n"
   ]
  },
  {
   "cell_type": "code",
   "execution_count": null,
   "metadata": {},
   "outputs": [],
   "source": [
    "import pandas as pd\n"
   ]
  },
  {
   "cell_type": "code",
   "execution_count": null,
   "metadata": {},
   "outputs": [],
   "source": [
    "def exchange_seats(seat: pd.DataFrame) -> pd.DataFrame:\n",
    "    seat1 = pd.DataFrame(seat[seat['id']%2!=0])\n",
    "    seat2 = pd.DataFrame(seat[seat['id']%2==0])\n",
    "    if len(seat1)==len(seat2): seat1['id'] = seat1['id']+1\n",
    "    else: seat1['id'].iloc[:-1] = seat1['id'].iloc[:-1]+1\n",
    "    seat2['id'] = seat2['id']-1\n",
    "    return seat1.append(seat2).sort_values(by=['id'])"
   ]
  },
  {
   "cell_type": "code",
   "execution_count": null,
   "metadata": {},
   "outputs": [],
   "source": [
    "data = [[1, 'Abbot'], [2, 'Doris'], [3, 'Emerson'], [4, 'Green'], [5, 'Jeames'],[6, 'Julia']]\n",
    "seat = pd.DataFrame(data, columns=['id', 'student']).astype({'id':'Int64', 'student':'object'})"
   ]
  },
  {
   "cell_type": "code",
   "execution_count": null,
   "metadata": {},
   "outputs": [],
   "source": [
    "exchange_seats(seat)"
   ]
  },
  {
   "cell_type": "markdown",
   "metadata": {},
   "source": [
    "# أفضل حل \n",
    "# Best Solution"
   ]
  },
  {
   "cell_type": "code",
   "execution_count": null,
   "metadata": {},
   "outputs": [],
   "source": [
    "import pandas as pd\n",
    "\n",
    "def exchange_seats(seat: pd.DataFrame) -> pd.DataFrame:\n",
    "    max_ava_idx = seat.shape[0]\n",
    "    changed_order = []\n",
    "    for i in range(0, max_ava_idx, 2):\n",
    "        if i + 1 >= max_ava_idx:\n",
    "            changed_order.append(seat.loc[i, 'student'])\n",
    "            break\n",
    "        changed_order.append(seat.loc[i + 1, 'student'])\n",
    "        changed_order.append(seat.loc[i, 'student'])\n",
    "    return pd.DataFrame({'id': list(range(1,max_ava_idx+1)), 'student':changed_order})"
   ]
  }
 ],
 "metadata": {
  "kernelspec": {
   "display_name": "Python 3",
   "language": "python",
   "name": "python3"
  },
  "language_info": {
   "codemirror_mode": {
    "name": "ipython",
    "version": 3
   },
   "file_extension": ".py",
   "mimetype": "text/x-python",
   "name": "python",
   "nbconvert_exporter": "python",
   "pygments_lexer": "ipython3",
   "version": "3.10.9"
  }
 },
 "nbformat": 4,
 "nbformat_minor": 2
}
